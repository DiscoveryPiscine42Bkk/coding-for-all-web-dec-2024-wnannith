{
 "cells": [
  {
   "cell_type": "code",
   "execution_count": null,
   "metadata": {},
   "outputs": [
    {
     "name": "stdout",
     "output_type": "stream",
     "text": [
      "Input must be a list of integers\n",
      "Finished calculating average\n"
     ]
    }
   ],
   "source": [
    "'''A docstring'''\n",
    "\n",
    "def average(numbers):\n",
    "    '''A docstring'''\n",
    "    avg = 0\n",
    "    for number in numbers:\n",
    "        avg += int(number)\n",
    "    avg /= len(numbers)\n",
    "    return avg\n",
    "\n",
    "try:\n",
    "    inputList = []\n",
    "    count = int(input())\n",
    "    while count:\n",
    "        inputList.append(input())\n",
    "        count -= 1\n",
    "    print(average(inputList))\n",
    "\n",
    "except ValueError:\n",
    "    print(\"Input must be a list of integers\")\n",
    "\n",
    "finally:\n",
    "    print(\"Finished calculating average\")\n"
   ]
  },
  {
   "cell_type": "code",
   "execution_count": 48,
   "metadata": {},
   "outputs": [
    {
     "name": "stdout",
     "output_type": "stream",
     "text": [
      "Error: Invalid input. Please enter a valid number.\n",
      "Please try again.\n",
      "\n",
      "Error: Cannot divide by zero.\n",
      "Please try again.\n",
      "\n",
      "The quotient is 1.40.\n"
     ]
    }
   ],
   "source": [
    "'''A docstring'''\n",
    "\n",
    "VALID = False\n",
    "RESULT = 0\n",
    "while not VALID:\n",
    "    try:\n",
    "        num1 = int(input())\n",
    "        num2 = int(input())\n",
    "        RESULT = num1 / num2\n",
    "        VALID = True\n",
    "    except ValueError:\n",
    "        print(\"Error: Invalid input. Please enter a valid number.\")\n",
    "\n",
    "    except ZeroDivisionError:\n",
    "        print(\"Error: Cannot divide by zero.\")\n",
    "\n",
    "    finally:\n",
    "        if not VALID:\n",
    "            print(\"Please try again.\")\n",
    "            print()\n",
    "\n",
    "print(f\"The quotient is {RESULT:.2f}.\")"
   ]
  },
  {
   "cell_type": "code",
   "execution_count": null,
   "metadata": {},
   "outputs": [
    {
     "name": "stdout",
     "output_type": "stream",
     "text": [
      "Error: Invalid operation. Please enter +, -, *, or /.\n",
      "Please try again.\n",
      "\n",
      "The result is 35.00.\n"
     ]
    }
   ],
   "source": [
    "'''\n",
    "A docstring\n",
    "'''\n",
    "def calc(num1, num2, op):\n",
    "    '''A docstring'''\n",
    "    if op == '+':\n",
    "        num1 += num2\n",
    "    elif op == '-':\n",
    "        num1 -= num2\n",
    "    elif op == '*':\n",
    "        num1 *= num2\n",
    "    elif op == '/':\n",
    "        num1 /= num2\n",
    "    else:\n",
    "        raise TypeError(\"Error: Invalid operation. Please enter +, -, *, or /.\")\n",
    "    return num1\n",
    "\n",
    "VALID = False\n",
    "RESULT = 0\n",
    "while not VALID:\n",
    "    try:\n",
    "        num1 = int(input())\n",
    "        num2 = int(input())\n",
    "        op = input()\n",
    "        RESULT = calc(num1, num2, op)\n",
    "\n",
    "        VALID = True\n",
    "    except ValueError:\n",
    "        print(\"Error: Invalid input. Please enter a valid number.\")\n",
    "    \n",
    "    except TypeError as e:\n",
    "        print(e)\n",
    "\n",
    "    except ZeroDivisionError:\n",
    "        print(\"Error: Cannot divide by zero\")\n",
    "\n",
    "    finally:\n",
    "        if not VALID:\n",
    "            print(\"Please try again.\")\n",
    "            print()\n",
    "\n",
    "if op == '/':\n",
    "    print(f\"The result of the division is {RESULT:.2f}.\")\n",
    "else:\n",
    "    print(f\"The result is {RESULT:.2f}.\")\n"
   ]
  }
 ],
 "metadata": {
  "kernelspec": {
   "display_name": "base",
   "language": "python",
   "name": "python3"
  },
  "language_info": {
   "codemirror_mode": {
    "name": "ipython",
    "version": 3
   },
   "file_extension": ".py",
   "mimetype": "text/x-python",
   "name": "python",
   "nbconvert_exporter": "python",
   "pygments_lexer": "ipython3",
   "version": "3.12.7"
  }
 },
 "nbformat": 4,
 "nbformat_minor": 2
}
